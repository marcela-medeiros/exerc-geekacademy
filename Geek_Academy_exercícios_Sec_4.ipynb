{
  "nbformat": 4,
  "nbformat_minor": 0,
  "metadata": {
    "colab": {
      "name": "Geek Academy_exercícios Sec.4.ipynb",
      "provenance": [],
      "authorship_tag": "ABX9TyOhvs/liJrq2WVYrmPLkapN",
      "include_colab_link": true
    },
    "kernelspec": {
      "name": "python3",
      "display_name": "Python 3"
    },
    "language_info": {
      "name": "python"
    }
  },
  "cells": [
    {
      "cell_type": "markdown",
      "metadata": {
        "id": "view-in-github",
        "colab_type": "text"
      },
      "source": [
        "<a href=\"https://colab.research.google.com/github/marcela-medeiros/exerc-geekacademy/blob/main/Geek_Academy_exerc%C3%ADcios_Sec_4.ipynb\" target=\"_parent\"><img src=\"https://colab.research.google.com/assets/colab-badge.svg\" alt=\"Open In Colab\"/></a>"
      ]
    },
    {
      "cell_type": "markdown",
      "metadata": {
        "id": "zYiSeXPH7rRx"
      },
      "source": [
        "**Resoluções dos exercícios da Geek University - Seção 4.**\n",
        "Disponível em: [Geek Academy](https://www.udemy.com/course/curso-de-programacao-em-python-do-basico-ao-avancado/)"
      ]
    },
    {
      "cell_type": "markdown",
      "metadata": {
        "id": "dsrFvxGZ9m4n"
      },
      "source": [
        "1.\n"
      ]
    },
    {
      "cell_type": "code",
      "metadata": {
        "colab": {
          "base_uri": "https://localhost:8080/"
        },
        "id": "SZ8v9kA4tNni",
        "outputId": "28cbdfd3-0746-4691-8b85-cabd2b30a494"
      },
      "source": [
        "num = int(input('Digite um número inteiro:'))\n",
        "print(num)\n"
      ],
      "execution_count": null,
      "outputs": [
        {
          "output_type": "stream",
          "text": [
            "Digite um número inteiro:90\n",
            "90\n"
          ],
          "name": "stdout"
        }
      ]
    },
    {
      "cell_type": "markdown",
      "metadata": {
        "id": "n3V0EV6j9v3a"
      },
      "source": [
        "2."
      ]
    },
    {
      "cell_type": "code",
      "metadata": {
        "colab": {
          "base_uri": "https://localhost:8080/"
        },
        "id": "fZHLAbnD6EqQ",
        "outputId": "141217c9-dd86-467f-f58e-2bd545b35a12"
      },
      "source": [
        "num = float(input('Digite um número real:'))\n",
        "print (num)"
      ],
      "execution_count": null,
      "outputs": [
        {
          "output_type": "stream",
          "text": [
            "Digite um número real:5.5\n",
            "5.5\n"
          ],
          "name": "stdout"
        }
      ]
    },
    {
      "cell_type": "markdown",
      "metadata": {
        "id": "9EvDA23n9ziB"
      },
      "source": [
        "3."
      ]
    },
    {
      "cell_type": "code",
      "metadata": {
        "colab": {
          "base_uri": "https://localhost:8080/"
        },
        "id": "L-ODfWjX6csG",
        "outputId": "42209ce4-8b2e-467b-9a03-ecbb28892c67"
      },
      "source": [
        "one = int(input(\"Digite um número  \"))\n",
        "two = int (input(\"Digite outro número  \"))\n",
        "three = int(input(\"Digite um último número  \"))\n",
        "\n",
        "sum = one + two + three\n",
        "\n",
        "print (sum)\n"
      ],
      "execution_count": null,
      "outputs": [
        {
          "output_type": "stream",
          "text": [
            "Digite um número  42\n",
            "Digite outro número  11\n",
            "Digite um último número  99\n",
            "152\n"
          ],
          "name": "stdout"
        }
      ]
    },
    {
      "cell_type": "markdown",
      "metadata": {
        "id": "dW-dWqFB91wj"
      },
      "source": [
        "4."
      ]
    },
    {
      "cell_type": "code",
      "metadata": {
        "colab": {
          "base_uri": "https://localhost:8080/"
        },
        "id": "AntzElBx7N0C",
        "outputId": "ceba5e51-e793-4267-8c88-b8f12c590c37"
      },
      "source": [
        "num = int(input('Digite um número:  '))\n",
        "power = num**2\n",
        "\n",
        "print(power)"
      ],
      "execution_count": null,
      "outputs": [
        {
          "output_type": "stream",
          "text": [
            "Digite um número:  10\n",
            "100\n"
          ],
          "name": "stdout"
        }
      ]
    },
    {
      "cell_type": "markdown",
      "metadata": {
        "id": "ikuyFP5o93sM"
      },
      "source": [
        "5."
      ]
    },
    {
      "cell_type": "code",
      "metadata": {
        "colab": {
          "base_uri": "https://localhost:8080/"
        },
        "id": "dJNP3Jgy9ivt",
        "outputId": "ce8788d5-8a6e-4935-9057-8e4700e7aac7"
      },
      "source": [
        "num = float (input(\" Digite um número:   \"  ))\n",
        "quinta = num/5\n",
        "\n",
        "print(quinta)\n"
      ],
      "execution_count": null,
      "outputs": [
        {
          "output_type": "stream",
          "text": [
            " Digite um número:   95\n",
            "19.0\n"
          ],
          "name": "stdout"
        }
      ]
    },
    {
      "cell_type": "markdown",
      "metadata": {
        "id": "xSLTqIOF-3ki"
      },
      "source": [
        "6."
      ]
    },
    {
      "cell_type": "code",
      "metadata": {
        "colab": {
          "base_uri": "https://localhost:8080/"
        },
        "id": "T0a9lUmD-47z",
        "outputId": "950b3bc2-966e-45db-8162-1053c0cf6c58"
      },
      "source": [
        "tCelsius = float (input(\"Insira a temperatura em graus Celsius:   \"))\n",
        "tFarenheit = tCelsius*(9.0/5.0)+32\n",
        "\n",
        "print(\"A temperatura em graus Farenheit é:   \", tFarenheit)"
      ],
      "execution_count": null,
      "outputs": [
        {
          "output_type": "stream",
          "text": [
            "Insira a temperatura em graus Celsius:   39.5\n",
            "A temperatura em graus Farenheit é:    103.10000000000001\n"
          ],
          "name": "stdout"
        }
      ]
    },
    {
      "cell_type": "markdown",
      "metadata": {
        "id": "DidBsjohAZKg"
      },
      "source": [
        "7."
      ]
    },
    {
      "cell_type": "code",
      "metadata": {
        "colab": {
          "base_uri": "https://localhost:8080/"
        },
        "id": "q6256wA6Abon",
        "outputId": "7a5da27e-def3-41ac-ea4d-7c896d510316"
      },
      "source": [
        "tFarenheit = float(input(\" Insira. e temperatura em graus Farenheit:  \"))\n",
        "tCelsius = 5.0*(tFarenheit-32.0)/9.0\n",
        "\n",
        "print(\"A temperatura em graus Celsius é:   \", tCelsius)"
      ],
      "execution_count": null,
      "outputs": [
        {
          "output_type": "stream",
          "text": [
            " Insira. e temperatura em graus Farenheit:  103.1\n",
            "A temperatura em graus Celsius é:    39.5\n"
          ],
          "name": "stdout"
        }
      ]
    },
    {
      "cell_type": "markdown",
      "metadata": {
        "id": "mTjzlzQGA8gx"
      },
      "source": [
        "8."
      ]
    },
    {
      "cell_type": "code",
      "metadata": {
        "colab": {
          "base_uri": "https://localhost:8080/"
        },
        "id": "Hnwv7J1aA-Ek",
        "outputId": "85768dd8-020b-4a4c-c1d1-298f6080788f"
      },
      "source": [
        "tKelvin = float(input(\"Insira a temperatura em graus Kelvin:  \"))\n",
        "tCelsius = tKelvin - 273.15\n",
        "\n",
        "print(\"A temperatura em graus Celsius é:  \", tCelsius)"
      ],
      "execution_count": null,
      "outputs": [
        {
          "output_type": "stream",
          "text": [
            "Insira a temperatura em graus Kelvin:  300.15\n",
            "A temperatura em graus Celsius é:   27.0\n"
          ],
          "name": "stdout"
        }
      ]
    },
    {
      "cell_type": "markdown",
      "metadata": {
        "id": "5EwNp1PBByEm"
      },
      "source": [
        "9."
      ]
    },
    {
      "cell_type": "code",
      "metadata": {
        "colab": {
          "base_uri": "https://localhost:8080/"
        },
        "id": "19wuHIWZBzGI",
        "outputId": "39a2086f-411d-4d7f-e94b-2ef8c3e1feb5"
      },
      "source": [
        "tCelsius = float(input(\"Insira a temperatura em graus Celsius:  \"))\n",
        "tKelvin = tCelsius + 273.15\n",
        "\n",
        "print(\"A temperatura em graus Kelvin é:  \", tKelvin)"
      ],
      "execution_count": null,
      "outputs": [
        {
          "output_type": "stream",
          "text": [
            "Insira a temperatura em graus Celsius:  27\n",
            "A temperatura em graus Kelvin é:   300.15\n"
          ],
          "name": "stdout"
        }
      ]
    },
    {
      "cell_type": "markdown",
      "metadata": {
        "id": "_QjDJCkJHMIi"
      },
      "source": [
        "10."
      ]
    },
    {
      "cell_type": "code",
      "metadata": {
        "colab": {
          "base_uri": "https://localhost:8080/"
        },
        "id": "Qc5yClQ8HiHM",
        "outputId": "1634d92d-05bc-420b-cbc8-af476a245f1e"
      },
      "source": [
        "km= float(input(\"Insira a velocidade em kilometros:  \"))\n",
        "metros = km/3.6\n",
        "\n",
        "print (\"A velocidade em metros por segundo é:\",metros)"
      ],
      "execution_count": null,
      "outputs": [
        {
          "output_type": "stream",
          "text": [
            "Insira a velocidade em kilometros:  85.9\n",
            "A velocidade em metros por segundo é: 23.86111111111111\n"
          ],
          "name": "stdout"
        }
      ]
    },
    {
      "cell_type": "markdown",
      "metadata": {
        "id": "vYMXGrhNdsvS"
      },
      "source": [
        "11."
      ]
    },
    {
      "cell_type": "code",
      "metadata": {
        "colab": {
          "base_uri": "https://localhost:8080/"
        },
        "id": "AE4HgfX_dtzw",
        "outputId": "2a2a9f25-9a13-4417-a918-95311549544e"
      },
      "source": [
        "metros = float(input(\"Insira a velocidade em metros por segundo:  \"))\n",
        "km = metros * 3.6\n",
        "\n",
        "print(km)"
      ],
      "execution_count": null,
      "outputs": [
        {
          "output_type": "stream",
          "text": [
            "Insira a velocidade em metros por segundo:  90.4\n",
            "325.44000000000005\n"
          ],
          "name": "stdout"
        }
      ]
    },
    {
      "cell_type": "markdown",
      "metadata": {
        "id": "CXGNjcneeZwn"
      },
      "source": [
        "12."
      ]
    },
    {
      "cell_type": "code",
      "metadata": {
        "colab": {
          "base_uri": "https://localhost:8080/"
        },
        "id": "kbxw6bNaec8R",
        "outputId": "33bc0401-663a-4d58-bbf6-5ac9e8eb34a3"
      },
      "source": [
        "milhas = float(input(\"Insira a distância em milhas:  \"))\n",
        "quilometros = 1.61 * milhas\n",
        "\n",
        "print (\"O valor em kilometros corresponde a:\", quilometros)"
      ],
      "execution_count": null,
      "outputs": [
        {
          "output_type": "stream",
          "text": [
            "Insira a distância em milhas:  70.99\n",
            "O valor em kilometros corresponde a: 114.2939\n"
          ],
          "name": "stdout"
        }
      ]
    },
    {
      "cell_type": "markdown",
      "metadata": {
        "id": "0QASiF8Mfhlw"
      },
      "source": [
        "13."
      ]
    },
    {
      "cell_type": "code",
      "metadata": {
        "id": "pH6BevLa4Ug4"
      },
      "source": [
        ""
      ],
      "execution_count": null,
      "outputs": []
    },
    {
      "cell_type": "markdown",
      "metadata": {
        "id": "HZpqQ5t-4VaZ"
      },
      "source": [
        "14."
      ]
    },
    {
      "cell_type": "code",
      "metadata": {
        "id": "nlV7w1xG4ZsB"
      },
      "source": [
        ""
      ],
      "execution_count": null,
      "outputs": []
    },
    {
      "cell_type": "markdown",
      "metadata": {
        "id": "G5N0Cutf4v6P"
      },
      "source": [
        "37."
      ]
    },
    {
      "cell_type": "code",
      "metadata": {
        "colab": {
          "base_uri": "https://localhost:8080/"
        },
        "id": "AX7cNz584y94",
        "outputId": "ad25aecc-65e1-49fc-b051-4b1f5e7a964f"
      },
      "source": [
        "prod = float(input(\"Informe o valor do produto em reais:  \"))\n",
        "desc = prod -  (prod*0.12)\n",
        "\n",
        "print(\"O valor do produto com desconto é de:   \", desc)"
      ],
      "execution_count": null,
      "outputs": [
        {
          "output_type": "stream",
          "text": [
            "Informe o valor do produto em reais:  80\n",
            "O valor do produto com desconto é de:    70.4\n"
          ],
          "name": "stdout"
        }
      ]
    },
    {
      "cell_type": "markdown",
      "metadata": {
        "id": "RfnkN7gR6FW1"
      },
      "source": [
        "38."
      ]
    },
    {
      "cell_type": "code",
      "metadata": {
        "colab": {
          "base_uri": "https://localhost:8080/"
        },
        "id": "4KKB-Id46Gyv",
        "outputId": "26fa46f7-3300-492c-a39e-c93db8971c08"
      },
      "source": [
        "funcionario = input(\"Nome do funcionário:  \")\n",
        "salario = float(input(\"Informe o valor do salário   \"))\n",
        "aumento = salario + (salario * 0.25)\n",
        "print (\"Bem - vindo ao Sigstaff,\",funcionario, \"!\", \"O valor da sua remuneração é: \", aumento)"
      ],
      "execution_count": null,
      "outputs": [
        {
          "output_type": "stream",
          "text": [
            "Nome do funcionário:  Isaac Hanson\n",
            "Informe o valor do salário   6500\n",
            "Bem - vindo ao Sigstaff, Isaac Hanson ! O valor da sua remuneração é:  8125.0\n"
          ],
          "name": "stdout"
        }
      ]
    },
    {
      "cell_type": "markdown",
      "metadata": {
        "id": "ytLmyVZh8p3u"
      },
      "source": [
        "39."
      ]
    },
    {
      "cell_type": "code",
      "metadata": {
        "colab": {
          "base_uri": "https://localhost:8080/"
        },
        "id": "51aPJYkE8tHY",
        "outputId": "05c5f493-708e-40e3-d2bf-b60264eaf18a"
      },
      "source": [
        "premio = 780000\n",
        "concurso = \"O prêmio final do concurso, no valor de\", \"R$\", premio, \"será dividido entre os seguintes ganhadores:\"\n",
        "gan1 = premio * 0.46\n",
        "gan2 = (premio - gan1) * 0.32\n",
        "gan3 = premio - gan1 - gan2\n",
        "\n",
        "print(f\"O primeiro ganhador levará um prêmio de R$ {gan1: ,.2f}\")\n",
        "print (f\"O segundo ganhador levará um prêmio de R$ {gan2: ,.2f}\")\n",
        "print (f\"O terceiro ganhador levará um prêmio de R${gan3: ,.2f}\")"
      ],
      "execution_count": null,
      "outputs": [
        {
          "output_type": "stream",
          "text": [
            "O primeiro ganhador levará um prêmio de R$  358,800.00\n",
            "O segundo ganhador levará um prêmio de R$  134,784.00\n",
            "O terceiro ganhador levará um prêmio de R$ 286,416.00\n"
          ],
          "name": "stdout"
        }
      ]
    },
    {
      "cell_type": "code",
      "metadata": {
        "id": "pQyTu8tY-FxG"
      },
      "source": [
        ""
      ],
      "execution_count": null,
      "outputs": []
    }
  ]
}